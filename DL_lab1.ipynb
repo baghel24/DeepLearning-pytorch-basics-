{
  "nbformat": 4,
  "nbformat_minor": 0,
  "metadata": {
    "colab": {
      "provenance": []
    },
    "kernelspec": {
      "name": "python3",
      "display_name": "Python 3"
    },
    "language_info": {
      "name": "python"
    }
  },
  "cells": [
    {
      "cell_type": "code",
      "execution_count": 2,
      "metadata": {
        "id": "knbZVz2byIRl"
      },
      "outputs": [],
      "source": [
        "import torch\n",
        "import numpy as np\n",
        "import pandas as pd\n",
        "import matplotlib.pyplot as plt\n",
        "%matplotlib inline"
      ]
    },
    {
      "cell_type": "code",
      "source": [
        "torch.__version__"
      ],
      "metadata": {
        "colab": {
          "base_uri": "https://localhost:8080/",
          "height": 35
        },
        "id": "awBIUZkZ1erh",
        "outputId": "bb9188e6-597e-4bbe-a5e0-916a2a23cedc"
      },
      "execution_count": 4,
      "outputs": [
        {
          "output_type": "execute_result",
          "data": {
            "text/plain": [
              "'2.1.0+cu121'"
            ],
            "application/vnd.google.colaboratory.intrinsic+json": {
              "type": "string"
            }
          },
          "metadata": {},
          "execution_count": 4
        }
      ]
    },
    {
      "cell_type": "code",
      "source": [
        "ints_to_tensor = torch.tensor([0,1,2,3,4])\n",
        "print(\"dtype of tensor object after converting into tensor:\", ints_to_tensor.dtype)#dtype is property of tensor\n",
        "print(\"type of tensor object after converting into tensor:\", ints_to_tensor.type())# type is function of tensor"
      ],
      "metadata": {
        "colab": {
          "base_uri": "https://localhost:8080/"
        },
        "id": "hjGugl0410Ft",
        "outputId": "6f60913e-ee68-422b-edd6-40931f43c20e"
      },
      "execution_count": 5,
      "outputs": [
        {
          "output_type": "stream",
          "name": "stdout",
          "text": [
            "dtype of tensor object after converting into tensor: torch.int64\n",
            "type of tensor object after converting into tensor: torch.LongTensor\n"
          ]
        }
      ]
    },
    {
      "cell_type": "code",
      "source": [
        "floats_to_tensor = torch.tensor([0.0,1.0,2.,3.0,4.])\n",
        "print(\"dtype of tensor object after converting into tensor:\", floats_to_tensor.dtype)#dtype is property of tensor\n",
        "print(\"type of tensor object after converting into tensor:\", floats_to_tensor.type())# type is function of tensor"
      ],
      "metadata": {
        "colab": {
          "base_uri": "https://localhost:8080/"
        },
        "id": "87w4aWlW3JEO",
        "outputId": "c851fdd3-8c75-463e-bdef-6f8b6ad51007"
      },
      "execution_count": 6,
      "outputs": [
        {
          "output_type": "stream",
          "name": "stdout",
          "text": [
            "dtype of tensor object after converting into tensor: torch.float32\n",
            "type of tensor object after converting into tensor: torch.FloatTensor\n"
          ]
        }
      ]
    },
    {
      "cell_type": "code",
      "source": [
        "#convert a integer list with length to float tensor\n",
        "\n",
        "new_float_tensor = torch.FloatTensor([0,1,2,3,4])\n",
        "print(\"dtype of new_float_tensor object after converting into ints_tensor:\", new_float_tensor.dtype)#dtype is property of tensor\n",
        "print(\"type of new_float_tensor object after converting into ints_tensor:\", new_float_tensor.type())# type is function of tensor"
      ],
      "metadata": {
        "colab": {
          "base_uri": "https://localhost:8080/"
        },
        "id": "FZbHlZ0c3iY3",
        "outputId": "c48ec930-abaa-43dc-d9af-4ac8aad0c35d"
      },
      "execution_count": 8,
      "outputs": [
        {
          "output_type": "stream",
          "name": "stdout",
          "text": [
            "dtype of new_float_tensor object after converting into ints_tensor: torch.float32\n",
            "type of new_float_tensor object after converting into ints_tensor: torch.FloatTensor\n"
          ]
        }
      ]
    },
    {
      "cell_type": "code",
      "source": [
        "# another method for convert a integer list with length to float tensor\n",
        "\n",
        "old_int_tensor = torch.tensor([0,1,2,3,4])\n",
        "new_float_tensor = old_int_tensor.type(torch.FloatTensor)\n",
        "print(\"dtype of new_float_tensor object after converting into ints_tensor:\", new_float_tensor.dtype)\n",
        "print(\"type of new_float_tensor object after converting into ints_tensor:\", new_float_tensor.type())"
      ],
      "metadata": {
        "colab": {
          "base_uri": "https://localhost:8080/"
        },
        "id": "StbVQrCd3ik4",
        "outputId": "8c2bc67f-a705-4b2b-a365-a536600c4289"
      },
      "execution_count": 10,
      "outputs": [
        {
          "output_type": "stream",
          "name": "stdout",
          "text": [
            "dtype of new_float_tensor object after converting into ints_tensor: torch.float32\n",
            "type of new_float_tensor object after converting into ints_tensor: torch.FloatTensor\n"
          ]
        }
      ]
    },
    {
      "cell_type": "code",
      "source": [
        "# Introduce the tensor_obj.size() & tensor_ndimension.size() methods\n",
        "\n",
        "print (\"The size of the new_float_tensor\", new_float_tensor.size())\n",
        "print (\"The dimension of the new_float_tensor\", new_float_tensor.ndimension())"
      ],
      "metadata": {
        "colab": {
          "base_uri": "https://localhost:8080/"
        },
        "id": "gvLNGg7t4ype",
        "outputId": "8a6321e8-e79e-4dba-9eb8-0dc911003a93"
      },
      "execution_count": 11,
      "outputs": [
        {
          "output_type": "stream",
          "name": "stdout",
          "text": [
            "The size of the new_float_tensor torch.Size([5])\n",
            "The dimension of the new_float_tensor 1\n"
          ]
        }
      ]
    },
    {
      "cell_type": "code",
      "source": [
        "# tensor_obj.view(row, column) is used for reshaping the a tensor object\n",
        "\n",
        "twoD_float_tensor = new_float_tensor.view(5,1)\n",
        "print(\"Original size\", new_float_tensor)\n",
        "print(\"New size after reshaping size\", twoD_float_tensor)\n",
        "# the two square show its is a 2 dimenstion"
      ],
      "metadata": {
        "colab": {
          "base_uri": "https://localhost:8080/"
        },
        "id": "FJHA6qgm5tzr",
        "outputId": "5f3437eb-0a1f-4e3f-c3c8-ff23b4a3ef77"
      },
      "execution_count": 12,
      "outputs": [
        {
          "output_type": "stream",
          "name": "stdout",
          "text": [
            "Original size tensor([0., 1., 2., 3., 4.])\n",
            "New size after reshaping size tensor([[0.],\n",
            "        [1.],\n",
            "        [2.],\n",
            "        [3.],\n",
            "        [4.]])\n"
          ]
        }
      ]
    },
    {
      "cell_type": "code",
      "source": [
        "# Introduce the use -1 in trhe tensor_obj.view(row, cloumn) method\n",
        "twoD_float_tensor = new_float_tensor.view(-1,1)\n",
        "print(\"Original size\", new_float_tensor)\n",
        "print(\"New size after reshaping size\", twoD_float_tensor)"
      ],
      "metadata": {
        "colab": {
          "base_uri": "https://localhost:8080/"
        },
        "id": "k-fI3r2E6s4Q",
        "outputId": "6de9105e-c8e2-41ea-d363-e5236e79b50b"
      },
      "execution_count": 15,
      "outputs": [
        {
          "output_type": "stream",
          "name": "stdout",
          "text": [
            "Original size tensor([0., 1., 2., 3., 4.])\n",
            "New size after reshaping size tensor([[0.],\n",
            "        [1.],\n",
            "        [2.],\n",
            "        [3.],\n",
            "        [4.]])\n"
          ]
        }
      ]
    },
    {
      "cell_type": "markdown",
      "source": [
        "working with numpy\n"
      ],
      "metadata": {
        "id": "GPqF0CM07l6A"
      }
    },
    {
      "cell_type": "code",
      "source": [
        "# convert a numpy array to a tensor\n",
        "\n",
        "numpy_array = np.array([0.0,1.0,2.,3.0,4.])\n",
        "new_float_tensor = torch.from_numpy(numpy_array)\n",
        "print(\"The dtype of new tensor:\", new_float_tensor.dtype)\n",
        "print(\"The type of new tensor:\", new_float_tensor.type())"
      ],
      "metadata": {
        "colab": {
          "base_uri": "https://localhost:8080/"
        },
        "id": "iRb5_WfW7qbG",
        "outputId": "045f2ac6-4f95-4635-9cb4-0e1dd4ee7ed7"
      },
      "execution_count": 16,
      "outputs": [
        {
          "output_type": "stream",
          "name": "stdout",
          "text": [
            "The dtype of new tensor: torch.float64\n",
            "The type of new tensor: torch.DoubleTensor\n"
          ]
        }
      ]
    },
    {
      "cell_type": "code",
      "source": [
        "# convert a tensor to a numpy array\n",
        "\n",
        "back_to_numpy = new_float_tensor.numpy()\n",
        "print(\"The numpy array from tensor:\", back_to_numpy)\n",
        "print(\"The dtype of new numpy:\", back_to_numpy.dtype)\n",
        "# print(\"The type of new numpy:\", back_to_numpy.type()) type() is not used for numpy"
      ],
      "metadata": {
        "colab": {
          "base_uri": "https://localhost:8080/"
        },
        "id": "kB7windp7qd9",
        "outputId": "2f331e15-664d-4c03-e72b-6dabc159a69b"
      },
      "execution_count": 19,
      "outputs": [
        {
          "output_type": "stream",
          "name": "stdout",
          "text": [
            "The numpy array from tensor: [0. 1. 2. 3. 4.]\n",
            "The dtype of new numpy: float64\n"
          ]
        }
      ]
    },
    {
      "cell_type": "code",
      "source": [
        "# Set all the elments of original numpy arrayt to zero\n",
        "\n",
        "numpy_array[:]=0\n",
        "print(\"The new tensor points to numpy array:\", new_float_tensor)\n",
        "print(\"The back to array points to the tensor:\", back_to_numpy)"
      ],
      "metadata": {
        "colab": {
          "base_uri": "https://localhost:8080/"
        },
        "id": "tr2Cnt859YoT",
        "outputId": "f902c97d-1e19-452f-8d3b-6df52f37d4c0"
      },
      "execution_count": 21,
      "outputs": [
        {
          "output_type": "stream",
          "name": "stdout",
          "text": [
            "The new tensor points to numpy array: tensor([0., 0., 0., 0., 0.], dtype=torch.float64)\n",
            "The back to array points to the tensor: [0. 0. 0. 0. 0.]\n"
          ]
        }
      ]
    },
    {
      "cell_type": "markdown",
      "source": [
        "work with pandas"
      ],
      "metadata": {
        "id": "AFNCbZwK-kW6"
      }
    },
    {
      "cell_type": "code",
      "source": [
        "# convert a pandas series to a tensor\n",
        "\n",
        "pandas_series = pd.Series([0.3,1.0,2,10.1])\n",
        "new_tensor = torch.from_numpy(pandas_series.values)\n",
        "print(\"The new tensor from numpy array:\", new_tensor)\n",
        "print(\"The dtype of new tensor from numpy array:\", new_tensor.dtype)\n",
        "print(\"The type of new tensor from numpy array:\", new_tensor.type())"
      ],
      "metadata": {
        "colab": {
          "base_uri": "https://localhost:8080/"
        },
        "id": "L-7Lk6jl-m9T",
        "outputId": "4320538d-6b06-44b0-b7c9-55b1171c4c03"
      },
      "execution_count": 23,
      "outputs": [
        {
          "output_type": "stream",
          "name": "stdout",
          "text": [
            "The new tensor from numpy array: tensor([ 0.3000,  1.0000,  2.0000, 10.1000], dtype=torch.float64)\n",
            "The dtype of new tensor from numpy array: torch.float64\n",
            "The type of new tensor from numpy array: torch.DoubleTensor\n"
          ]
        }
      ]
    },
    {
      "cell_type": "code",
      "source": [
        "# use of item()\n",
        "\n",
        "this_tensor = torch.tensor([0,1,2,3])\n",
        "print(\"The first item is given by:\", this_tensor[0].item())\n",
        "print(\"The first item is given by:\", this_tensor[1].item())"
      ],
      "metadata": {
        "colab": {
          "base_uri": "https://localhost:8080/"
        },
        "id": "AiPh7Tlq_lMF",
        "outputId": "f5e95afc-660d-4245-a31a-a23b1ad68f31"
      },
      "execution_count": 24,
      "outputs": [
        {
          "output_type": "stream",
          "name": "stdout",
          "text": [
            "The first item is given by: 0\n",
            "The first item is given by: 1\n"
          ]
        }
      ]
    }
  ]
}