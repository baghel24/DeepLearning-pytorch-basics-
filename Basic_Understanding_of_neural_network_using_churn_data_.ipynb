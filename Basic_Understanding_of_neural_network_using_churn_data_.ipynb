{
  "nbformat": 4,
  "nbformat_minor": 0,
  "metadata": {
    "colab": {
      "provenance": [],
      "authorship_tag": "ABX9TyOBZUfLmo7ER7J+WyUmFAta",
      "include_colab_link": true
    },
    "kernelspec": {
      "name": "python3",
      "display_name": "Python 3"
    },
    "language_info": {
      "name": "python"
    }
  },
  "cells": [
    {
      "cell_type": "markdown",
      "metadata": {
        "id": "view-in-github",
        "colab_type": "text"
      },
      "source": [
        "<a href=\"https://colab.research.google.com/github/baghel24/DeepLearning-pytorch-basics-/blob/main/Basic_Understanding_of_neural_network_using_churn_data_.ipynb\" target=\"_parent\"><img src=\"https://colab.research.google.com/assets/colab-badge.svg\" alt=\"Open In Colab\"/></a>"
      ]
    },
    {
      "cell_type": "code",
      "execution_count": 5,
      "metadata": {
        "id": "uuP5bRLzlBcw"
      },
      "outputs": [],
      "source": [
        "import numpy as np\n",
        "import pandas as pd"
      ]
    },
    {
      "cell_type": "code",
      "source": [
        "data = pd.read_csv(\"/content/Churn_Modelling.csv\")\n",
        "data.head(5)"
      ],
      "metadata": {
        "colab": {
          "base_uri": "https://localhost:8080/",
          "height": 226
        },
        "id": "cxoxbp0ong_P",
        "outputId": "a55c6e3b-e93f-4da7-dc4d-18dfe0bebafa"
      },
      "execution_count": 6,
      "outputs": [
        {
          "output_type": "execute_result",
          "data": {
            "text/plain": [
              "   RowNumber  CustomerId   Surname  CreditScore Geography  Gender  Age  \\\n",
              "0          1    15634602  Hargrave          619    France  Female   42   \n",
              "1          2    15647311      Hill          608     Spain  Female   41   \n",
              "2          3    15619304      Onio          502    France  Female   42   \n",
              "3          4    15701354      Boni          699    France  Female   39   \n",
              "4          5    15737888  Mitchell          850     Spain  Female   43   \n",
              "\n",
              "   Tenure    Balance  NumOfProducts  HasCrCard  IsActiveMember  \\\n",
              "0       2       0.00              1          1               1   \n",
              "1       1   83807.86              1          0               1   \n",
              "2       8  159660.80              3          1               0   \n",
              "3       1       0.00              2          0               0   \n",
              "4       2  125510.82              1          1               1   \n",
              "\n",
              "   EstimatedSalary  Exited  \n",
              "0        101348.88       1  \n",
              "1        112542.58       0  \n",
              "2        113931.57       1  \n",
              "3         93826.63       0  \n",
              "4         79084.10       0  "
            ],
            "text/html": [
              "\n",
              "  <div id=\"df-6d4841e2-1472-48e6-a672-4c22875810ae\" class=\"colab-df-container\">\n",
              "    <div>\n",
              "<style scoped>\n",
              "    .dataframe tbody tr th:only-of-type {\n",
              "        vertical-align: middle;\n",
              "    }\n",
              "\n",
              "    .dataframe tbody tr th {\n",
              "        vertical-align: top;\n",
              "    }\n",
              "\n",
              "    .dataframe thead th {\n",
              "        text-align: right;\n",
              "    }\n",
              "</style>\n",
              "<table border=\"1\" class=\"dataframe\">\n",
              "  <thead>\n",
              "    <tr style=\"text-align: right;\">\n",
              "      <th></th>\n",
              "      <th>RowNumber</th>\n",
              "      <th>CustomerId</th>\n",
              "      <th>Surname</th>\n",
              "      <th>CreditScore</th>\n",
              "      <th>Geography</th>\n",
              "      <th>Gender</th>\n",
              "      <th>Age</th>\n",
              "      <th>Tenure</th>\n",
              "      <th>Balance</th>\n",
              "      <th>NumOfProducts</th>\n",
              "      <th>HasCrCard</th>\n",
              "      <th>IsActiveMember</th>\n",
              "      <th>EstimatedSalary</th>\n",
              "      <th>Exited</th>\n",
              "    </tr>\n",
              "  </thead>\n",
              "  <tbody>\n",
              "    <tr>\n",
              "      <th>0</th>\n",
              "      <td>1</td>\n",
              "      <td>15634602</td>\n",
              "      <td>Hargrave</td>\n",
              "      <td>619</td>\n",
              "      <td>France</td>\n",
              "      <td>Female</td>\n",
              "      <td>42</td>\n",
              "      <td>2</td>\n",
              "      <td>0.00</td>\n",
              "      <td>1</td>\n",
              "      <td>1</td>\n",
              "      <td>1</td>\n",
              "      <td>101348.88</td>\n",
              "      <td>1</td>\n",
              "    </tr>\n",
              "    <tr>\n",
              "      <th>1</th>\n",
              "      <td>2</td>\n",
              "      <td>15647311</td>\n",
              "      <td>Hill</td>\n",
              "      <td>608</td>\n",
              "      <td>Spain</td>\n",
              "      <td>Female</td>\n",
              "      <td>41</td>\n",
              "      <td>1</td>\n",
              "      <td>83807.86</td>\n",
              "      <td>1</td>\n",
              "      <td>0</td>\n",
              "      <td>1</td>\n",
              "      <td>112542.58</td>\n",
              "      <td>0</td>\n",
              "    </tr>\n",
              "    <tr>\n",
              "      <th>2</th>\n",
              "      <td>3</td>\n",
              "      <td>15619304</td>\n",
              "      <td>Onio</td>\n",
              "      <td>502</td>\n",
              "      <td>France</td>\n",
              "      <td>Female</td>\n",
              "      <td>42</td>\n",
              "      <td>8</td>\n",
              "      <td>159660.80</td>\n",
              "      <td>3</td>\n",
              "      <td>1</td>\n",
              "      <td>0</td>\n",
              "      <td>113931.57</td>\n",
              "      <td>1</td>\n",
              "    </tr>\n",
              "    <tr>\n",
              "      <th>3</th>\n",
              "      <td>4</td>\n",
              "      <td>15701354</td>\n",
              "      <td>Boni</td>\n",
              "      <td>699</td>\n",
              "      <td>France</td>\n",
              "      <td>Female</td>\n",
              "      <td>39</td>\n",
              "      <td>1</td>\n",
              "      <td>0.00</td>\n",
              "      <td>2</td>\n",
              "      <td>0</td>\n",
              "      <td>0</td>\n",
              "      <td>93826.63</td>\n",
              "      <td>0</td>\n",
              "    </tr>\n",
              "    <tr>\n",
              "      <th>4</th>\n",
              "      <td>5</td>\n",
              "      <td>15737888</td>\n",
              "      <td>Mitchell</td>\n",
              "      <td>850</td>\n",
              "      <td>Spain</td>\n",
              "      <td>Female</td>\n",
              "      <td>43</td>\n",
              "      <td>2</td>\n",
              "      <td>125510.82</td>\n",
              "      <td>1</td>\n",
              "      <td>1</td>\n",
              "      <td>1</td>\n",
              "      <td>79084.10</td>\n",
              "      <td>0</td>\n",
              "    </tr>\n",
              "  </tbody>\n",
              "</table>\n",
              "</div>\n",
              "    <div class=\"colab-df-buttons\">\n",
              "\n",
              "  <div class=\"colab-df-container\">\n",
              "    <button class=\"colab-df-convert\" onclick=\"convertToInteractive('df-6d4841e2-1472-48e6-a672-4c22875810ae')\"\n",
              "            title=\"Convert this dataframe to an interactive table.\"\n",
              "            style=\"display:none;\">\n",
              "\n",
              "  <svg xmlns=\"http://www.w3.org/2000/svg\" height=\"24px\" viewBox=\"0 -960 960 960\">\n",
              "    <path d=\"M120-120v-720h720v720H120Zm60-500h600v-160H180v160Zm220 220h160v-160H400v160Zm0 220h160v-160H400v160ZM180-400h160v-160H180v160Zm440 0h160v-160H620v160ZM180-180h160v-160H180v160Zm440 0h160v-160H620v160Z\"/>\n",
              "  </svg>\n",
              "    </button>\n",
              "\n",
              "  <style>\n",
              "    .colab-df-container {\n",
              "      display:flex;\n",
              "      gap: 12px;\n",
              "    }\n",
              "\n",
              "    .colab-df-convert {\n",
              "      background-color: #E8F0FE;\n",
              "      border: none;\n",
              "      border-radius: 50%;\n",
              "      cursor: pointer;\n",
              "      display: none;\n",
              "      fill: #1967D2;\n",
              "      height: 32px;\n",
              "      padding: 0 0 0 0;\n",
              "      width: 32px;\n",
              "    }\n",
              "\n",
              "    .colab-df-convert:hover {\n",
              "      background-color: #E2EBFA;\n",
              "      box-shadow: 0px 1px 2px rgba(60, 64, 67, 0.3), 0px 1px 3px 1px rgba(60, 64, 67, 0.15);\n",
              "      fill: #174EA6;\n",
              "    }\n",
              "\n",
              "    .colab-df-buttons div {\n",
              "      margin-bottom: 4px;\n",
              "    }\n",
              "\n",
              "    [theme=dark] .colab-df-convert {\n",
              "      background-color: #3B4455;\n",
              "      fill: #D2E3FC;\n",
              "    }\n",
              "\n",
              "    [theme=dark] .colab-df-convert:hover {\n",
              "      background-color: #434B5C;\n",
              "      box-shadow: 0px 1px 3px 1px rgba(0, 0, 0, 0.15);\n",
              "      filter: drop-shadow(0px 1px 2px rgba(0, 0, 0, 0.3));\n",
              "      fill: #FFFFFF;\n",
              "    }\n",
              "  </style>\n",
              "\n",
              "    <script>\n",
              "      const buttonEl =\n",
              "        document.querySelector('#df-6d4841e2-1472-48e6-a672-4c22875810ae button.colab-df-convert');\n",
              "      buttonEl.style.display =\n",
              "        google.colab.kernel.accessAllowed ? 'block' : 'none';\n",
              "\n",
              "      async function convertToInteractive(key) {\n",
              "        const element = document.querySelector('#df-6d4841e2-1472-48e6-a672-4c22875810ae');\n",
              "        const dataTable =\n",
              "          await google.colab.kernel.invokeFunction('convertToInteractive',\n",
              "                                                    [key], {});\n",
              "        if (!dataTable) return;\n",
              "\n",
              "        const docLinkHtml = 'Like what you see? Visit the ' +\n",
              "          '<a target=\"_blank\" href=https://colab.research.google.com/notebooks/data_table.ipynb>data table notebook</a>'\n",
              "          + ' to learn more about interactive tables.';\n",
              "        element.innerHTML = '';\n",
              "        dataTable['output_type'] = 'display_data';\n",
              "        await google.colab.output.renderOutput(dataTable, element);\n",
              "        const docLink = document.createElement('div');\n",
              "        docLink.innerHTML = docLinkHtml;\n",
              "        element.appendChild(docLink);\n",
              "      }\n",
              "    </script>\n",
              "  </div>\n",
              "\n",
              "\n",
              "<div id=\"df-ee41e74b-c02c-4bf8-a76a-a10be2a9bd0a\">\n",
              "  <button class=\"colab-df-quickchart\" onclick=\"quickchart('df-ee41e74b-c02c-4bf8-a76a-a10be2a9bd0a')\"\n",
              "            title=\"Suggest charts\"\n",
              "            style=\"display:none;\">\n",
              "\n",
              "<svg xmlns=\"http://www.w3.org/2000/svg\" height=\"24px\"viewBox=\"0 0 24 24\"\n",
              "     width=\"24px\">\n",
              "    <g>\n",
              "        <path d=\"M19 3H5c-1.1 0-2 .9-2 2v14c0 1.1.9 2 2 2h14c1.1 0 2-.9 2-2V5c0-1.1-.9-2-2-2zM9 17H7v-7h2v7zm4 0h-2V7h2v10zm4 0h-2v-4h2v4z\"/>\n",
              "    </g>\n",
              "</svg>\n",
              "  </button>\n",
              "\n",
              "<style>\n",
              "  .colab-df-quickchart {\n",
              "      --bg-color: #E8F0FE;\n",
              "      --fill-color: #1967D2;\n",
              "      --hover-bg-color: #E2EBFA;\n",
              "      --hover-fill-color: #174EA6;\n",
              "      --disabled-fill-color: #AAA;\n",
              "      --disabled-bg-color: #DDD;\n",
              "  }\n",
              "\n",
              "  [theme=dark] .colab-df-quickchart {\n",
              "      --bg-color: #3B4455;\n",
              "      --fill-color: #D2E3FC;\n",
              "      --hover-bg-color: #434B5C;\n",
              "      --hover-fill-color: #FFFFFF;\n",
              "      --disabled-bg-color: #3B4455;\n",
              "      --disabled-fill-color: #666;\n",
              "  }\n",
              "\n",
              "  .colab-df-quickchart {\n",
              "    background-color: var(--bg-color);\n",
              "    border: none;\n",
              "    border-radius: 50%;\n",
              "    cursor: pointer;\n",
              "    display: none;\n",
              "    fill: var(--fill-color);\n",
              "    height: 32px;\n",
              "    padding: 0;\n",
              "    width: 32px;\n",
              "  }\n",
              "\n",
              "  .colab-df-quickchart:hover {\n",
              "    background-color: var(--hover-bg-color);\n",
              "    box-shadow: 0 1px 2px rgba(60, 64, 67, 0.3), 0 1px 3px 1px rgba(60, 64, 67, 0.15);\n",
              "    fill: var(--button-hover-fill-color);\n",
              "  }\n",
              "\n",
              "  .colab-df-quickchart-complete:disabled,\n",
              "  .colab-df-quickchart-complete:disabled:hover {\n",
              "    background-color: var(--disabled-bg-color);\n",
              "    fill: var(--disabled-fill-color);\n",
              "    box-shadow: none;\n",
              "  }\n",
              "\n",
              "  .colab-df-spinner {\n",
              "    border: 2px solid var(--fill-color);\n",
              "    border-color: transparent;\n",
              "    border-bottom-color: var(--fill-color);\n",
              "    animation:\n",
              "      spin 1s steps(1) infinite;\n",
              "  }\n",
              "\n",
              "  @keyframes spin {\n",
              "    0% {\n",
              "      border-color: transparent;\n",
              "      border-bottom-color: var(--fill-color);\n",
              "      border-left-color: var(--fill-color);\n",
              "    }\n",
              "    20% {\n",
              "      border-color: transparent;\n",
              "      border-left-color: var(--fill-color);\n",
              "      border-top-color: var(--fill-color);\n",
              "    }\n",
              "    30% {\n",
              "      border-color: transparent;\n",
              "      border-left-color: var(--fill-color);\n",
              "      border-top-color: var(--fill-color);\n",
              "      border-right-color: var(--fill-color);\n",
              "    }\n",
              "    40% {\n",
              "      border-color: transparent;\n",
              "      border-right-color: var(--fill-color);\n",
              "      border-top-color: var(--fill-color);\n",
              "    }\n",
              "    60% {\n",
              "      border-color: transparent;\n",
              "      border-right-color: var(--fill-color);\n",
              "    }\n",
              "    80% {\n",
              "      border-color: transparent;\n",
              "      border-right-color: var(--fill-color);\n",
              "      border-bottom-color: var(--fill-color);\n",
              "    }\n",
              "    90% {\n",
              "      border-color: transparent;\n",
              "      border-bottom-color: var(--fill-color);\n",
              "    }\n",
              "  }\n",
              "</style>\n",
              "\n",
              "  <script>\n",
              "    async function quickchart(key) {\n",
              "      const quickchartButtonEl =\n",
              "        document.querySelector('#' + key + ' button');\n",
              "      quickchartButtonEl.disabled = true;  // To prevent multiple clicks.\n",
              "      quickchartButtonEl.classList.add('colab-df-spinner');\n",
              "      try {\n",
              "        const charts = await google.colab.kernel.invokeFunction(\n",
              "            'suggestCharts', [key], {});\n",
              "      } catch (error) {\n",
              "        console.error('Error during call to suggestCharts:', error);\n",
              "      }\n",
              "      quickchartButtonEl.classList.remove('colab-df-spinner');\n",
              "      quickchartButtonEl.classList.add('colab-df-quickchart-complete');\n",
              "    }\n",
              "    (() => {\n",
              "      let quickchartButtonEl =\n",
              "        document.querySelector('#df-ee41e74b-c02c-4bf8-a76a-a10be2a9bd0a button');\n",
              "      quickchartButtonEl.style.display =\n",
              "        google.colab.kernel.accessAllowed ? 'block' : 'none';\n",
              "    })();\n",
              "  </script>\n",
              "</div>\n",
              "\n",
              "    </div>\n",
              "  </div>\n"
            ]
          },
          "metadata": {},
          "execution_count": 6
        }
      ]
    },
    {
      "cell_type": "code",
      "source": [
        "data.info()"
      ],
      "metadata": {
        "colab": {
          "base_uri": "https://localhost:8080/"
        },
        "id": "lteHr5Dcn1rE",
        "outputId": "725fbaee-744c-40e6-9211-36ec82e9bcf1"
      },
      "execution_count": 7,
      "outputs": [
        {
          "output_type": "stream",
          "name": "stdout",
          "text": [
            "<class 'pandas.core.frame.DataFrame'>\n",
            "RangeIndex: 10000 entries, 0 to 9999\n",
            "Data columns (total 14 columns):\n",
            " #   Column           Non-Null Count  Dtype  \n",
            "---  ------           --------------  -----  \n",
            " 0   RowNumber        10000 non-null  int64  \n",
            " 1   CustomerId       10000 non-null  int64  \n",
            " 2   Surname          10000 non-null  object \n",
            " 3   CreditScore      10000 non-null  int64  \n",
            " 4   Geography        10000 non-null  object \n",
            " 5   Gender           10000 non-null  object \n",
            " 6   Age              10000 non-null  int64  \n",
            " 7   Tenure           10000 non-null  int64  \n",
            " 8   Balance          10000 non-null  float64\n",
            " 9   NumOfProducts    10000 non-null  int64  \n",
            " 10  HasCrCard        10000 non-null  int64  \n",
            " 11  IsActiveMember   10000 non-null  int64  \n",
            " 12  EstimatedSalary  10000 non-null  float64\n",
            " 13  Exited           10000 non-null  int64  \n",
            "dtypes: float64(2), int64(9), object(3)\n",
            "memory usage: 1.1+ MB\n"
          ]
        }
      ]
    },
    {
      "cell_type": "code",
      "source": [
        "data.duplicated().sum()"
      ],
      "metadata": {
        "colab": {
          "base_uri": "https://localhost:8080/"
        },
        "id": "TpSoXvHHoDAh",
        "outputId": "c0bed29b-795f-4114-8020-af50cfd90d08"
      },
      "execution_count": 8,
      "outputs": [
        {
          "output_type": "execute_result",
          "data": {
            "text/plain": [
              "0"
            ]
          },
          "metadata": {},
          "execution_count": 8
        }
      ]
    },
    {
      "cell_type": "code",
      "source": [
        "data['Exited'].value_counts()"
      ],
      "metadata": {
        "colab": {
          "base_uri": "https://localhost:8080/"
        },
        "id": "yD8UN2oGoNRZ",
        "outputId": "64c3e2d9-8fa6-4cda-c053-2723bd94b0d2"
      },
      "execution_count": 9,
      "outputs": [
        {
          "output_type": "execute_result",
          "data": {
            "text/plain": [
              "0    7963\n",
              "1    2037\n",
              "Name: Exited, dtype: int64"
            ]
          },
          "metadata": {},
          "execution_count": 9
        }
      ]
    },
    {
      "cell_type": "code",
      "source": [
        "data.drop(columns=['RowNumber','CustomerId','Surname'],inplace=True)\n"
      ],
      "metadata": {
        "id": "lQAUbSOLoopr"
      },
      "execution_count": 10,
      "outputs": []
    },
    {
      "cell_type": "code",
      "source": [
        "data.head(5)"
      ],
      "metadata": {
        "colab": {
          "base_uri": "https://localhost:8080/",
          "height": 226
        },
        "id": "k3g4MEwVplvX",
        "outputId": "d9c4ecda-f156-42ed-87ea-d863357677e0"
      },
      "execution_count": 11,
      "outputs": [
        {
          "output_type": "execute_result",
          "data": {
            "text/plain": [
              "   CreditScore Geography  Gender  Age  Tenure    Balance  NumOfProducts  \\\n",
              "0          619    France  Female   42       2       0.00              1   \n",
              "1          608     Spain  Female   41       1   83807.86              1   \n",
              "2          502    France  Female   42       8  159660.80              3   \n",
              "3          699    France  Female   39       1       0.00              2   \n",
              "4          850     Spain  Female   43       2  125510.82              1   \n",
              "\n",
              "   HasCrCard  IsActiveMember  EstimatedSalary  Exited  \n",
              "0          1               1        101348.88       1  \n",
              "1          0               1        112542.58       0  \n",
              "2          1               0        113931.57       1  \n",
              "3          0               0         93826.63       0  \n",
              "4          1               1         79084.10       0  "
            ],
            "text/html": [
              "\n",
              "  <div id=\"df-0da40ee1-83f4-4c2e-8603-1ecf942d1786\" class=\"colab-df-container\">\n",
              "    <div>\n",
              "<style scoped>\n",
              "    .dataframe tbody tr th:only-of-type {\n",
              "        vertical-align: middle;\n",
              "    }\n",
              "\n",
              "    .dataframe tbody tr th {\n",
              "        vertical-align: top;\n",
              "    }\n",
              "\n",
              "    .dataframe thead th {\n",
              "        text-align: right;\n",
              "    }\n",
              "</style>\n",
              "<table border=\"1\" class=\"dataframe\">\n",
              "  <thead>\n",
              "    <tr style=\"text-align: right;\">\n",
              "      <th></th>\n",
              "      <th>CreditScore</th>\n",
              "      <th>Geography</th>\n",
              "      <th>Gender</th>\n",
              "      <th>Age</th>\n",
              "      <th>Tenure</th>\n",
              "      <th>Balance</th>\n",
              "      <th>NumOfProducts</th>\n",
              "      <th>HasCrCard</th>\n",
              "      <th>IsActiveMember</th>\n",
              "      <th>EstimatedSalary</th>\n",
              "      <th>Exited</th>\n",
              "    </tr>\n",
              "  </thead>\n",
              "  <tbody>\n",
              "    <tr>\n",
              "      <th>0</th>\n",
              "      <td>619</td>\n",
              "      <td>France</td>\n",
              "      <td>Female</td>\n",
              "      <td>42</td>\n",
              "      <td>2</td>\n",
              "      <td>0.00</td>\n",
              "      <td>1</td>\n",
              "      <td>1</td>\n",
              "      <td>1</td>\n",
              "      <td>101348.88</td>\n",
              "      <td>1</td>\n",
              "    </tr>\n",
              "    <tr>\n",
              "      <th>1</th>\n",
              "      <td>608</td>\n",
              "      <td>Spain</td>\n",
              "      <td>Female</td>\n",
              "      <td>41</td>\n",
              "      <td>1</td>\n",
              "      <td>83807.86</td>\n",
              "      <td>1</td>\n",
              "      <td>0</td>\n",
              "      <td>1</td>\n",
              "      <td>112542.58</td>\n",
              "      <td>0</td>\n",
              "    </tr>\n",
              "    <tr>\n",
              "      <th>2</th>\n",
              "      <td>502</td>\n",
              "      <td>France</td>\n",
              "      <td>Female</td>\n",
              "      <td>42</td>\n",
              "      <td>8</td>\n",
              "      <td>159660.80</td>\n",
              "      <td>3</td>\n",
              "      <td>1</td>\n",
              "      <td>0</td>\n",
              "      <td>113931.57</td>\n",
              "      <td>1</td>\n",
              "    </tr>\n",
              "    <tr>\n",
              "      <th>3</th>\n",
              "      <td>699</td>\n",
              "      <td>France</td>\n",
              "      <td>Female</td>\n",
              "      <td>39</td>\n",
              "      <td>1</td>\n",
              "      <td>0.00</td>\n",
              "      <td>2</td>\n",
              "      <td>0</td>\n",
              "      <td>0</td>\n",
              "      <td>93826.63</td>\n",
              "      <td>0</td>\n",
              "    </tr>\n",
              "    <tr>\n",
              "      <th>4</th>\n",
              "      <td>850</td>\n",
              "      <td>Spain</td>\n",
              "      <td>Female</td>\n",
              "      <td>43</td>\n",
              "      <td>2</td>\n",
              "      <td>125510.82</td>\n",
              "      <td>1</td>\n",
              "      <td>1</td>\n",
              "      <td>1</td>\n",
              "      <td>79084.10</td>\n",
              "      <td>0</td>\n",
              "    </tr>\n",
              "  </tbody>\n",
              "</table>\n",
              "</div>\n",
              "    <div class=\"colab-df-buttons\">\n",
              "\n",
              "  <div class=\"colab-df-container\">\n",
              "    <button class=\"colab-df-convert\" onclick=\"convertToInteractive('df-0da40ee1-83f4-4c2e-8603-1ecf942d1786')\"\n",
              "            title=\"Convert this dataframe to an interactive table.\"\n",
              "            style=\"display:none;\">\n",
              "\n",
              "  <svg xmlns=\"http://www.w3.org/2000/svg\" height=\"24px\" viewBox=\"0 -960 960 960\">\n",
              "    <path d=\"M120-120v-720h720v720H120Zm60-500h600v-160H180v160Zm220 220h160v-160H400v160Zm0 220h160v-160H400v160ZM180-400h160v-160H180v160Zm440 0h160v-160H620v160ZM180-180h160v-160H180v160Zm440 0h160v-160H620v160Z\"/>\n",
              "  </svg>\n",
              "    </button>\n",
              "\n",
              "  <style>\n",
              "    .colab-df-container {\n",
              "      display:flex;\n",
              "      gap: 12px;\n",
              "    }\n",
              "\n",
              "    .colab-df-convert {\n",
              "      background-color: #E8F0FE;\n",
              "      border: none;\n",
              "      border-radius: 50%;\n",
              "      cursor: pointer;\n",
              "      display: none;\n",
              "      fill: #1967D2;\n",
              "      height: 32px;\n",
              "      padding: 0 0 0 0;\n",
              "      width: 32px;\n",
              "    }\n",
              "\n",
              "    .colab-df-convert:hover {\n",
              "      background-color: #E2EBFA;\n",
              "      box-shadow: 0px 1px 2px rgba(60, 64, 67, 0.3), 0px 1px 3px 1px rgba(60, 64, 67, 0.15);\n",
              "      fill: #174EA6;\n",
              "    }\n",
              "\n",
              "    .colab-df-buttons div {\n",
              "      margin-bottom: 4px;\n",
              "    }\n",
              "\n",
              "    [theme=dark] .colab-df-convert {\n",
              "      background-color: #3B4455;\n",
              "      fill: #D2E3FC;\n",
              "    }\n",
              "\n",
              "    [theme=dark] .colab-df-convert:hover {\n",
              "      background-color: #434B5C;\n",
              "      box-shadow: 0px 1px 3px 1px rgba(0, 0, 0, 0.15);\n",
              "      filter: drop-shadow(0px 1px 2px rgba(0, 0, 0, 0.3));\n",
              "      fill: #FFFFFF;\n",
              "    }\n",
              "  </style>\n",
              "\n",
              "    <script>\n",
              "      const buttonEl =\n",
              "        document.querySelector('#df-0da40ee1-83f4-4c2e-8603-1ecf942d1786 button.colab-df-convert');\n",
              "      buttonEl.style.display =\n",
              "        google.colab.kernel.accessAllowed ? 'block' : 'none';\n",
              "\n",
              "      async function convertToInteractive(key) {\n",
              "        const element = document.querySelector('#df-0da40ee1-83f4-4c2e-8603-1ecf942d1786');\n",
              "        const dataTable =\n",
              "          await google.colab.kernel.invokeFunction('convertToInteractive',\n",
              "                                                    [key], {});\n",
              "        if (!dataTable) return;\n",
              "\n",
              "        const docLinkHtml = 'Like what you see? Visit the ' +\n",
              "          '<a target=\"_blank\" href=https://colab.research.google.com/notebooks/data_table.ipynb>data table notebook</a>'\n",
              "          + ' to learn more about interactive tables.';\n",
              "        element.innerHTML = '';\n",
              "        dataTable['output_type'] = 'display_data';\n",
              "        await google.colab.output.renderOutput(dataTable, element);\n",
              "        const docLink = document.createElement('div');\n",
              "        docLink.innerHTML = docLinkHtml;\n",
              "        element.appendChild(docLink);\n",
              "      }\n",
              "    </script>\n",
              "  </div>\n",
              "\n",
              "\n",
              "<div id=\"df-cfac2b43-aa51-41b0-acea-cd0a4ef27e17\">\n",
              "  <button class=\"colab-df-quickchart\" onclick=\"quickchart('df-cfac2b43-aa51-41b0-acea-cd0a4ef27e17')\"\n",
              "            title=\"Suggest charts\"\n",
              "            style=\"display:none;\">\n",
              "\n",
              "<svg xmlns=\"http://www.w3.org/2000/svg\" height=\"24px\"viewBox=\"0 0 24 24\"\n",
              "     width=\"24px\">\n",
              "    <g>\n",
              "        <path d=\"M19 3H5c-1.1 0-2 .9-2 2v14c0 1.1.9 2 2 2h14c1.1 0 2-.9 2-2V5c0-1.1-.9-2-2-2zM9 17H7v-7h2v7zm4 0h-2V7h2v10zm4 0h-2v-4h2v4z\"/>\n",
              "    </g>\n",
              "</svg>\n",
              "  </button>\n",
              "\n",
              "<style>\n",
              "  .colab-df-quickchart {\n",
              "      --bg-color: #E8F0FE;\n",
              "      --fill-color: #1967D2;\n",
              "      --hover-bg-color: #E2EBFA;\n",
              "      --hover-fill-color: #174EA6;\n",
              "      --disabled-fill-color: #AAA;\n",
              "      --disabled-bg-color: #DDD;\n",
              "  }\n",
              "\n",
              "  [theme=dark] .colab-df-quickchart {\n",
              "      --bg-color: #3B4455;\n",
              "      --fill-color: #D2E3FC;\n",
              "      --hover-bg-color: #434B5C;\n",
              "      --hover-fill-color: #FFFFFF;\n",
              "      --disabled-bg-color: #3B4455;\n",
              "      --disabled-fill-color: #666;\n",
              "  }\n",
              "\n",
              "  .colab-df-quickchart {\n",
              "    background-color: var(--bg-color);\n",
              "    border: none;\n",
              "    border-radius: 50%;\n",
              "    cursor: pointer;\n",
              "    display: none;\n",
              "    fill: var(--fill-color);\n",
              "    height: 32px;\n",
              "    padding: 0;\n",
              "    width: 32px;\n",
              "  }\n",
              "\n",
              "  .colab-df-quickchart:hover {\n",
              "    background-color: var(--hover-bg-color);\n",
              "    box-shadow: 0 1px 2px rgba(60, 64, 67, 0.3), 0 1px 3px 1px rgba(60, 64, 67, 0.15);\n",
              "    fill: var(--button-hover-fill-color);\n",
              "  }\n",
              "\n",
              "  .colab-df-quickchart-complete:disabled,\n",
              "  .colab-df-quickchart-complete:disabled:hover {\n",
              "    background-color: var(--disabled-bg-color);\n",
              "    fill: var(--disabled-fill-color);\n",
              "    box-shadow: none;\n",
              "  }\n",
              "\n",
              "  .colab-df-spinner {\n",
              "    border: 2px solid var(--fill-color);\n",
              "    border-color: transparent;\n",
              "    border-bottom-color: var(--fill-color);\n",
              "    animation:\n",
              "      spin 1s steps(1) infinite;\n",
              "  }\n",
              "\n",
              "  @keyframes spin {\n",
              "    0% {\n",
              "      border-color: transparent;\n",
              "      border-bottom-color: var(--fill-color);\n",
              "      border-left-color: var(--fill-color);\n",
              "    }\n",
              "    20% {\n",
              "      border-color: transparent;\n",
              "      border-left-color: var(--fill-color);\n",
              "      border-top-color: var(--fill-color);\n",
              "    }\n",
              "    30% {\n",
              "      border-color: transparent;\n",
              "      border-left-color: var(--fill-color);\n",
              "      border-top-color: var(--fill-color);\n",
              "      border-right-color: var(--fill-color);\n",
              "    }\n",
              "    40% {\n",
              "      border-color: transparent;\n",
              "      border-right-color: var(--fill-color);\n",
              "      border-top-color: var(--fill-color);\n",
              "    }\n",
              "    60% {\n",
              "      border-color: transparent;\n",
              "      border-right-color: var(--fill-color);\n",
              "    }\n",
              "    80% {\n",
              "      border-color: transparent;\n",
              "      border-right-color: var(--fill-color);\n",
              "      border-bottom-color: var(--fill-color);\n",
              "    }\n",
              "    90% {\n",
              "      border-color: transparent;\n",
              "      border-bottom-color: var(--fill-color);\n",
              "    }\n",
              "  }\n",
              "</style>\n",
              "\n",
              "  <script>\n",
              "    async function quickchart(key) {\n",
              "      const quickchartButtonEl =\n",
              "        document.querySelector('#' + key + ' button');\n",
              "      quickchartButtonEl.disabled = true;  // To prevent multiple clicks.\n",
              "      quickchartButtonEl.classList.add('colab-df-spinner');\n",
              "      try {\n",
              "        const charts = await google.colab.kernel.invokeFunction(\n",
              "            'suggestCharts', [key], {});\n",
              "      } catch (error) {\n",
              "        console.error('Error during call to suggestCharts:', error);\n",
              "      }\n",
              "      quickchartButtonEl.classList.remove('colab-df-spinner');\n",
              "      quickchartButtonEl.classList.add('colab-df-quickchart-complete');\n",
              "    }\n",
              "    (() => {\n",
              "      let quickchartButtonEl =\n",
              "        document.querySelector('#df-cfac2b43-aa51-41b0-acea-cd0a4ef27e17 button');\n",
              "      quickchartButtonEl.style.display =\n",
              "        google.colab.kernel.accessAllowed ? 'block' : 'none';\n",
              "    })();\n",
              "  </script>\n",
              "</div>\n",
              "\n",
              "    </div>\n",
              "  </div>\n"
            ]
          },
          "metadata": {},
          "execution_count": 11
        }
      ]
    },
    {
      "cell_type": "code",
      "source": [
        "data = pd.get_dummies(data, columns=['Geography','Gender'], drop_first=True)"
      ],
      "metadata": {
        "id": "auccbn9YpQxy"
      },
      "execution_count": 12,
      "outputs": []
    },
    {
      "cell_type": "code",
      "source": [
        "X = data.drop(columns=['Exited'])\n",
        "y = data['Exited'].values\n",
        "\n",
        "from sklearn.model_selection import train_test_split\n",
        "X_train,X_test,y_train,y_test = train_test_split(X,y,test_size=0.2,random_state=0)"
      ],
      "metadata": {
        "id": "8GI61HSoqIM9"
      },
      "execution_count": 13,
      "outputs": []
    },
    {
      "cell_type": "code",
      "source": [
        "X_train.shape"
      ],
      "metadata": {
        "colab": {
          "base_uri": "https://localhost:8080/"
        },
        "id": "fGqf1pgbq-oK",
        "outputId": "cbf825c8-3e86-4f88-dfae-b8a60da031aa"
      },
      "execution_count": 14,
      "outputs": [
        {
          "output_type": "execute_result",
          "data": {
            "text/plain": [
              "(8000, 11)"
            ]
          },
          "metadata": {},
          "execution_count": 14
        }
      ]
    },
    {
      "cell_type": "code",
      "source": [
        "from sklearn.preprocessing import StandardScaler\n",
        "scaler = StandardScaler()\n",
        "\n",
        "X_train_scaled = scaler.fit_transform(X_train)\n",
        "X_test_scaled = scaler.transform(X_test)"
      ],
      "metadata": {
        "id": "6F2JEmvhrKiV"
      },
      "execution_count": 15,
      "outputs": []
    },
    {
      "cell_type": "code",
      "source": [
        "import tensorflow\n",
        "from tensorflow import keras\n",
        "from tensorflow.keras import Sequential\n",
        "from tensorflow.keras.layers import Dense"
      ],
      "metadata": {
        "id": "VXjirJ7Isrix"
      },
      "execution_count": 16,
      "outputs": []
    },
    {
      "cell_type": "code",
      "source": [
        "model = Sequential()\n",
        "\n",
        "model.add(Dense(11,activation='sigmoid',input_dim=11))\n",
        "model.add(Dense(11,activation='sigmoid'))\n",
        "model.add(Dense(1,activation='sigmoid'))\n"
      ],
      "metadata": {
        "id": "7M7ERIjtsyFr"
      },
      "execution_count": 67,
      "outputs": []
    },
    {
      "cell_type": "code",
      "source": [],
      "metadata": {
        "id": "4465ibJ_EZOr"
      },
      "execution_count": null,
      "outputs": []
    },
    {
      "cell_type": "code",
      "source": [
        "model.summary()"
      ],
      "metadata": {
        "colab": {
          "base_uri": "https://localhost:8080/"
        },
        "id": "mCDz89jNBT1m",
        "outputId": "7f5bf665-3c66-42fa-e9ca-abe5b8d8a10d"
      },
      "execution_count": 68,
      "outputs": [
        {
          "output_type": "stream",
          "name": "stdout",
          "text": [
            "Model: \"sequential_7\"\n",
            "_________________________________________________________________\n",
            " Layer (type)                Output Shape              Param #   \n",
            "=================================================================\n",
            " dense_19 (Dense)            (None, 11)                132       \n",
            "                                                                 \n",
            " dense_20 (Dense)            (None, 11)                132       \n",
            "                                                                 \n",
            " dense_21 (Dense)            (None, 1)                 12        \n",
            "                                                                 \n",
            "=================================================================\n",
            "Total params: 276 (1.08 KB)\n",
            "Trainable params: 276 (1.08 KB)\n",
            "Non-trainable params: 0 (0.00 Byte)\n",
            "_________________________________________________________________\n"
          ]
        }
      ]
    },
    {
      "cell_type": "code",
      "source": [
        "model.compile(loss='binary_crossentropy', optimizer='Adam', metrics = ['accuracy'])"
      ],
      "metadata": {
        "id": "BrXP3zRjtliw"
      },
      "execution_count": 69,
      "outputs": []
    },
    {
      "cell_type": "code",
      "source": [
        "history = model.fit(X_train,y_train,batch_size=50,epochs=100,verbose=1,validation_split=0.2)"
      ],
      "metadata": {
        "colab": {
          "base_uri": "https://localhost:8080/"
        },
        "id": "LgmoTbOa-Mny",
        "outputId": "4828aff4-7ef7-4c09-f76e-ae74e7f872fe"
      },
      "execution_count": 70,
      "outputs": [
        {
          "output_type": "stream",
          "name": "stdout",
          "text": [
            "Epoch 1/100\n",
            "128/128 [==============================] - 1s 3ms/step - loss: 0.5512 - accuracy: 0.7958 - val_loss: 0.5115 - val_accuracy: 0.7969\n",
            "Epoch 2/100\n",
            "128/128 [==============================] - 0s 2ms/step - loss: 0.5082 - accuracy: 0.7958 - val_loss: 0.5037 - val_accuracy: 0.7969\n",
            "Epoch 3/100\n",
            "128/128 [==============================] - 0s 2ms/step - loss: 0.5049 - accuracy: 0.7958 - val_loss: 0.5018 - val_accuracy: 0.7969\n",
            "Epoch 4/100\n",
            "128/128 [==============================] - 0s 2ms/step - loss: 0.5039 - accuracy: 0.7958 - val_loss: 0.5001 - val_accuracy: 0.7969\n",
            "Epoch 5/100\n",
            "128/128 [==============================] - 0s 2ms/step - loss: 0.5031 - accuracy: 0.7958 - val_loss: 0.4996 - val_accuracy: 0.7969\n",
            "Epoch 6/100\n",
            "128/128 [==============================] - 0s 2ms/step - loss: 0.5031 - accuracy: 0.7958 - val_loss: 0.4991 - val_accuracy: 0.7969\n",
            "Epoch 7/100\n",
            "128/128 [==============================] - 0s 2ms/step - loss: 0.5027 - accuracy: 0.7958 - val_loss: 0.4990 - val_accuracy: 0.7969\n",
            "Epoch 8/100\n",
            "128/128 [==============================] - 0s 2ms/step - loss: 0.5027 - accuracy: 0.7958 - val_loss: 0.4988 - val_accuracy: 0.7969\n",
            "Epoch 9/100\n",
            "128/128 [==============================] - 0s 2ms/step - loss: 0.5024 - accuracy: 0.7958 - val_loss: 0.4974 - val_accuracy: 0.7969\n",
            "Epoch 10/100\n",
            "128/128 [==============================] - 0s 2ms/step - loss: 0.5013 - accuracy: 0.7958 - val_loss: 0.4969 - val_accuracy: 0.7969\n",
            "Epoch 11/100\n",
            "128/128 [==============================] - 0s 3ms/step - loss: 0.5012 - accuracy: 0.7958 - val_loss: 0.4966 - val_accuracy: 0.7969\n",
            "Epoch 12/100\n",
            "128/128 [==============================] - 0s 3ms/step - loss: 0.5007 - accuracy: 0.7958 - val_loss: 0.4965 - val_accuracy: 0.7969\n",
            "Epoch 13/100\n",
            "128/128 [==============================] - 0s 3ms/step - loss: 0.5003 - accuracy: 0.7958 - val_loss: 0.4962 - val_accuracy: 0.7969\n",
            "Epoch 14/100\n",
            "128/128 [==============================] - 0s 3ms/step - loss: 0.5001 - accuracy: 0.7958 - val_loss: 0.4961 - val_accuracy: 0.7969\n",
            "Epoch 15/100\n",
            "128/128 [==============================] - 0s 4ms/step - loss: 0.5000 - accuracy: 0.7958 - val_loss: 0.4960 - val_accuracy: 0.7969\n",
            "Epoch 16/100\n",
            "128/128 [==============================] - 0s 3ms/step - loss: 0.4999 - accuracy: 0.7958 - val_loss: 0.4959 - val_accuracy: 0.7969\n",
            "Epoch 17/100\n",
            "128/128 [==============================] - 0s 2ms/step - loss: 0.4996 - accuracy: 0.7958 - val_loss: 0.4957 - val_accuracy: 0.7969\n",
            "Epoch 18/100\n",
            "128/128 [==============================] - 0s 2ms/step - loss: 0.4996 - accuracy: 0.7958 - val_loss: 0.4957 - val_accuracy: 0.7969\n",
            "Epoch 19/100\n",
            "128/128 [==============================] - 0s 2ms/step - loss: 0.4994 - accuracy: 0.7958 - val_loss: 0.4959 - val_accuracy: 0.7969\n",
            "Epoch 20/100\n",
            "128/128 [==============================] - 0s 2ms/step - loss: 0.4993 - accuracy: 0.7958 - val_loss: 0.4956 - val_accuracy: 0.7969\n",
            "Epoch 21/100\n",
            "128/128 [==============================] - 0s 2ms/step - loss: 0.4994 - accuracy: 0.7958 - val_loss: 0.4954 - val_accuracy: 0.7969\n",
            "Epoch 22/100\n",
            "128/128 [==============================] - 0s 2ms/step - loss: 0.4992 - accuracy: 0.7958 - val_loss: 0.4954 - val_accuracy: 0.7969\n",
            "Epoch 23/100\n",
            "128/128 [==============================] - 0s 2ms/step - loss: 0.4992 - accuracy: 0.7958 - val_loss: 0.4953 - val_accuracy: 0.7969\n",
            "Epoch 24/100\n",
            "128/128 [==============================] - 0s 2ms/step - loss: 0.4990 - accuracy: 0.7958 - val_loss: 0.4953 - val_accuracy: 0.7969\n",
            "Epoch 25/100\n",
            "128/128 [==============================] - 0s 2ms/step - loss: 0.4991 - accuracy: 0.7958 - val_loss: 0.4952 - val_accuracy: 0.7969\n",
            "Epoch 26/100\n",
            "128/128 [==============================] - 0s 2ms/step - loss: 0.4989 - accuracy: 0.7958 - val_loss: 0.4952 - val_accuracy: 0.7969\n",
            "Epoch 27/100\n",
            "128/128 [==============================] - 0s 2ms/step - loss: 0.4988 - accuracy: 0.7958 - val_loss: 0.4953 - val_accuracy: 0.7969\n",
            "Epoch 28/100\n",
            "128/128 [==============================] - 0s 2ms/step - loss: 0.4989 - accuracy: 0.7958 - val_loss: 0.4951 - val_accuracy: 0.7969\n",
            "Epoch 29/100\n",
            "128/128 [==============================] - 0s 2ms/step - loss: 0.4989 - accuracy: 0.7958 - val_loss: 0.4950 - val_accuracy: 0.7969\n",
            "Epoch 30/100\n",
            "128/128 [==============================] - 0s 2ms/step - loss: 0.4987 - accuracy: 0.7958 - val_loss: 0.4950 - val_accuracy: 0.7969\n",
            "Epoch 31/100\n",
            "128/128 [==============================] - 0s 2ms/step - loss: 0.4988 - accuracy: 0.7958 - val_loss: 0.4950 - val_accuracy: 0.7969\n",
            "Epoch 32/100\n",
            "128/128 [==============================] - 0s 2ms/step - loss: 0.4988 - accuracy: 0.7958 - val_loss: 0.4950 - val_accuracy: 0.7969\n",
            "Epoch 33/100\n",
            "128/128 [==============================] - 0s 2ms/step - loss: 0.4988 - accuracy: 0.7958 - val_loss: 0.4949 - val_accuracy: 0.7969\n",
            "Epoch 34/100\n",
            "128/128 [==============================] - 0s 2ms/step - loss: 0.4987 - accuracy: 0.7958 - val_loss: 0.4950 - val_accuracy: 0.7969\n",
            "Epoch 35/100\n",
            "128/128 [==============================] - 0s 2ms/step - loss: 0.4987 - accuracy: 0.7958 - val_loss: 0.4951 - val_accuracy: 0.7969\n",
            "Epoch 36/100\n",
            "128/128 [==============================] - 0s 2ms/step - loss: 0.4987 - accuracy: 0.7958 - val_loss: 0.4950 - val_accuracy: 0.7969\n",
            "Epoch 37/100\n",
            "128/128 [==============================] - 0s 2ms/step - loss: 0.4986 - accuracy: 0.7958 - val_loss: 0.4950 - val_accuracy: 0.7969\n",
            "Epoch 38/100\n",
            "128/128 [==============================] - 0s 2ms/step - loss: 0.4986 - accuracy: 0.7958 - val_loss: 0.4949 - val_accuracy: 0.7969\n",
            "Epoch 39/100\n",
            "128/128 [==============================] - 0s 2ms/step - loss: 0.4986 - accuracy: 0.7958 - val_loss: 0.4948 - val_accuracy: 0.7969\n",
            "Epoch 40/100\n",
            "128/128 [==============================] - 0s 2ms/step - loss: 0.4986 - accuracy: 0.7958 - val_loss: 0.4949 - val_accuracy: 0.7969\n",
            "Epoch 41/100\n",
            "128/128 [==============================] - 0s 2ms/step - loss: 0.4987 - accuracy: 0.7958 - val_loss: 0.4949 - val_accuracy: 0.7969\n",
            "Epoch 42/100\n",
            "128/128 [==============================] - 0s 2ms/step - loss: 0.4985 - accuracy: 0.7958 - val_loss: 0.4951 - val_accuracy: 0.7969\n",
            "Epoch 43/100\n",
            "128/128 [==============================] - 0s 2ms/step - loss: 0.4985 - accuracy: 0.7958 - val_loss: 0.4950 - val_accuracy: 0.7969\n",
            "Epoch 44/100\n",
            "128/128 [==============================] - 0s 2ms/step - loss: 0.4986 - accuracy: 0.7958 - val_loss: 0.4950 - val_accuracy: 0.7969\n",
            "Epoch 45/100\n",
            "128/128 [==============================] - 0s 2ms/step - loss: 0.4986 - accuracy: 0.7958 - val_loss: 0.4950 - val_accuracy: 0.7969\n",
            "Epoch 46/100\n",
            "128/128 [==============================] - 0s 2ms/step - loss: 0.4986 - accuracy: 0.7958 - val_loss: 0.4949 - val_accuracy: 0.7969\n",
            "Epoch 47/100\n",
            "128/128 [==============================] - 0s 2ms/step - loss: 0.4985 - accuracy: 0.7958 - val_loss: 0.4951 - val_accuracy: 0.7969\n",
            "Epoch 48/100\n",
            "128/128 [==============================] - 0s 2ms/step - loss: 0.4983 - accuracy: 0.7958 - val_loss: 0.4950 - val_accuracy: 0.7969\n",
            "Epoch 49/100\n",
            "128/128 [==============================] - 0s 2ms/step - loss: 0.4984 - accuracy: 0.7958 - val_loss: 0.4949 - val_accuracy: 0.7969\n",
            "Epoch 50/100\n",
            "128/128 [==============================] - 0s 2ms/step - loss: 0.4985 - accuracy: 0.7958 - val_loss: 0.4948 - val_accuracy: 0.7969\n",
            "Epoch 51/100\n",
            "128/128 [==============================] - 0s 2ms/step - loss: 0.4986 - accuracy: 0.7958 - val_loss: 0.4948 - val_accuracy: 0.7969\n",
            "Epoch 52/100\n",
            "128/128 [==============================] - 0s 3ms/step - loss: 0.4985 - accuracy: 0.7958 - val_loss: 0.4949 - val_accuracy: 0.7969\n",
            "Epoch 53/100\n",
            "128/128 [==============================] - 0s 3ms/step - loss: 0.4985 - accuracy: 0.7958 - val_loss: 0.4949 - val_accuracy: 0.7969\n",
            "Epoch 54/100\n",
            "128/128 [==============================] - 0s 3ms/step - loss: 0.4986 - accuracy: 0.7958 - val_loss: 0.4950 - val_accuracy: 0.7969\n",
            "Epoch 55/100\n",
            "128/128 [==============================] - 0s 3ms/step - loss: 0.4985 - accuracy: 0.7958 - val_loss: 0.4950 - val_accuracy: 0.7969\n",
            "Epoch 56/100\n",
            "128/128 [==============================] - 0s 3ms/step - loss: 0.4984 - accuracy: 0.7958 - val_loss: 0.4949 - val_accuracy: 0.7969\n",
            "Epoch 57/100\n",
            "128/128 [==============================] - 0s 3ms/step - loss: 0.4984 - accuracy: 0.7958 - val_loss: 0.4950 - val_accuracy: 0.7969\n",
            "Epoch 58/100\n",
            "128/128 [==============================] - 0s 2ms/step - loss: 0.4986 - accuracy: 0.7958 - val_loss: 0.4952 - val_accuracy: 0.7969\n",
            "Epoch 59/100\n",
            "128/128 [==============================] - 0s 2ms/step - loss: 0.4985 - accuracy: 0.7958 - val_loss: 0.4949 - val_accuracy: 0.7969\n",
            "Epoch 60/100\n",
            "128/128 [==============================] - 0s 2ms/step - loss: 0.4985 - accuracy: 0.7958 - val_loss: 0.4949 - val_accuracy: 0.7969\n",
            "Epoch 61/100\n",
            "128/128 [==============================] - 0s 2ms/step - loss: 0.4985 - accuracy: 0.7958 - val_loss: 0.4952 - val_accuracy: 0.7969\n",
            "Epoch 62/100\n",
            "128/128 [==============================] - 0s 2ms/step - loss: 0.4985 - accuracy: 0.7958 - val_loss: 0.4949 - val_accuracy: 0.7969\n",
            "Epoch 63/100\n",
            "128/128 [==============================] - 0s 2ms/step - loss: 0.4984 - accuracy: 0.7958 - val_loss: 0.4951 - val_accuracy: 0.7969\n",
            "Epoch 64/100\n",
            "128/128 [==============================] - 0s 2ms/step - loss: 0.4985 - accuracy: 0.7958 - val_loss: 0.4950 - val_accuracy: 0.7969\n",
            "Epoch 65/100\n",
            "128/128 [==============================] - 0s 2ms/step - loss: 0.4988 - accuracy: 0.7958 - val_loss: 0.4949 - val_accuracy: 0.7969\n",
            "Epoch 66/100\n",
            "128/128 [==============================] - 0s 2ms/step - loss: 0.4985 - accuracy: 0.7958 - val_loss: 0.4949 - val_accuracy: 0.7969\n",
            "Epoch 67/100\n",
            "128/128 [==============================] - 0s 2ms/step - loss: 0.4985 - accuracy: 0.7958 - val_loss: 0.4949 - val_accuracy: 0.7969\n",
            "Epoch 68/100\n",
            "128/128 [==============================] - 0s 2ms/step - loss: 0.4984 - accuracy: 0.7958 - val_loss: 0.4951 - val_accuracy: 0.7969\n",
            "Epoch 69/100\n",
            "128/128 [==============================] - 0s 2ms/step - loss: 0.4984 - accuracy: 0.7958 - val_loss: 0.4950 - val_accuracy: 0.7969\n",
            "Epoch 70/100\n",
            "128/128 [==============================] - 0s 2ms/step - loss: 0.4984 - accuracy: 0.7958 - val_loss: 0.4949 - val_accuracy: 0.7969\n",
            "Epoch 71/100\n",
            "128/128 [==============================] - 0s 2ms/step - loss: 0.4985 - accuracy: 0.7958 - val_loss: 0.4948 - val_accuracy: 0.7969\n",
            "Epoch 72/100\n",
            "128/128 [==============================] - 0s 2ms/step - loss: 0.4984 - accuracy: 0.7958 - val_loss: 0.4948 - val_accuracy: 0.7969\n",
            "Epoch 73/100\n",
            "128/128 [==============================] - 0s 2ms/step - loss: 0.4984 - accuracy: 0.7958 - val_loss: 0.4949 - val_accuracy: 0.7969\n",
            "Epoch 74/100\n",
            "128/128 [==============================] - 0s 2ms/step - loss: 0.4984 - accuracy: 0.7958 - val_loss: 0.4956 - val_accuracy: 0.7969\n",
            "Epoch 75/100\n",
            "128/128 [==============================] - 0s 2ms/step - loss: 0.4987 - accuracy: 0.7958 - val_loss: 0.4952 - val_accuracy: 0.7969\n",
            "Epoch 76/100\n",
            "128/128 [==============================] - 0s 2ms/step - loss: 0.4986 - accuracy: 0.7958 - val_loss: 0.4956 - val_accuracy: 0.7969\n",
            "Epoch 77/100\n",
            "128/128 [==============================] - 0s 2ms/step - loss: 0.4986 - accuracy: 0.7958 - val_loss: 0.4954 - val_accuracy: 0.7969\n",
            "Epoch 78/100\n",
            "128/128 [==============================] - 0s 2ms/step - loss: 0.4986 - accuracy: 0.7958 - val_loss: 0.4953 - val_accuracy: 0.7969\n",
            "Epoch 79/100\n",
            "128/128 [==============================] - 0s 2ms/step - loss: 0.4985 - accuracy: 0.7958 - val_loss: 0.4954 - val_accuracy: 0.7969\n",
            "Epoch 80/100\n",
            "128/128 [==============================] - 0s 2ms/step - loss: 0.4985 - accuracy: 0.7958 - val_loss: 0.4954 - val_accuracy: 0.7969\n",
            "Epoch 81/100\n",
            "128/128 [==============================] - 0s 2ms/step - loss: 0.4984 - accuracy: 0.7958 - val_loss: 0.4955 - val_accuracy: 0.7969\n",
            "Epoch 82/100\n",
            "128/128 [==============================] - 0s 2ms/step - loss: 0.4985 - accuracy: 0.7958 - val_loss: 0.4954 - val_accuracy: 0.7969\n",
            "Epoch 83/100\n",
            "128/128 [==============================] - 0s 2ms/step - loss: 0.4983 - accuracy: 0.7958 - val_loss: 0.4955 - val_accuracy: 0.7969\n",
            "Epoch 84/100\n",
            "128/128 [==============================] - 0s 2ms/step - loss: 0.4983 - accuracy: 0.7958 - val_loss: 0.4954 - val_accuracy: 0.7969\n",
            "Epoch 85/100\n",
            "128/128 [==============================] - 0s 2ms/step - loss: 0.4984 - accuracy: 0.7958 - val_loss: 0.4954 - val_accuracy: 0.7969\n",
            "Epoch 86/100\n",
            "128/128 [==============================] - 0s 2ms/step - loss: 0.4984 - accuracy: 0.7958 - val_loss: 0.4954 - val_accuracy: 0.7969\n",
            "Epoch 87/100\n",
            "128/128 [==============================] - 0s 2ms/step - loss: 0.4983 - accuracy: 0.7958 - val_loss: 0.4955 - val_accuracy: 0.7969\n",
            "Epoch 88/100\n",
            "128/128 [==============================] - 0s 2ms/step - loss: 0.4983 - accuracy: 0.7958 - val_loss: 0.4956 - val_accuracy: 0.7969\n",
            "Epoch 89/100\n",
            "128/128 [==============================] - 0s 2ms/step - loss: 0.4983 - accuracy: 0.7958 - val_loss: 0.4955 - val_accuracy: 0.7969\n",
            "Epoch 90/100\n",
            "128/128 [==============================] - 0s 2ms/step - loss: 0.4983 - accuracy: 0.7958 - val_loss: 0.4955 - val_accuracy: 0.7969\n",
            "Epoch 91/100\n",
            "128/128 [==============================] - 0s 2ms/step - loss: 0.4983 - accuracy: 0.7958 - val_loss: 0.4956 - val_accuracy: 0.7969\n",
            "Epoch 92/100\n",
            "128/128 [==============================] - 0s 2ms/step - loss: 0.4984 - accuracy: 0.7958 - val_loss: 0.4956 - val_accuracy: 0.7969\n",
            "Epoch 93/100\n",
            "128/128 [==============================] - 0s 2ms/step - loss: 0.4983 - accuracy: 0.7958 - val_loss: 0.4954 - val_accuracy: 0.7969\n",
            "Epoch 94/100\n",
            "128/128 [==============================] - 0s 3ms/step - loss: 0.4985 - accuracy: 0.7958 - val_loss: 0.4954 - val_accuracy: 0.7969\n",
            "Epoch 95/100\n",
            "128/128 [==============================] - 0s 3ms/step - loss: 0.4984 - accuracy: 0.7958 - val_loss: 0.4954 - val_accuracy: 0.7969\n",
            "Epoch 96/100\n",
            "128/128 [==============================] - 0s 3ms/step - loss: 0.4984 - accuracy: 0.7958 - val_loss: 0.4956 - val_accuracy: 0.7969\n",
            "Epoch 97/100\n",
            "128/128 [==============================] - 0s 3ms/step - loss: 0.4982 - accuracy: 0.7958 - val_loss: 0.4955 - val_accuracy: 0.7969\n",
            "Epoch 98/100\n",
            "128/128 [==============================] - 0s 3ms/step - loss: 0.4985 - accuracy: 0.7958 - val_loss: 0.4955 - val_accuracy: 0.7969\n",
            "Epoch 99/100\n",
            "128/128 [==============================] - 0s 3ms/step - loss: 0.4984 - accuracy: 0.7958 - val_loss: 0.4954 - val_accuracy: 0.7969\n",
            "Epoch 100/100\n",
            "128/128 [==============================] - 0s 2ms/step - loss: 0.4983 - accuracy: 0.7958 - val_loss: 0.4955 - val_accuracy: 0.7969\n"
          ]
        }
      ]
    },
    {
      "cell_type": "code",
      "source": [
        "# y_log = model.predict(X_test) ## for predicting the output in 0 and 1\n",
        "# y_pred = np.where(y_log>0.5,1,0)\n",
        "\n",
        "y_pred = model.predict(X_test) ## the output are in probabilities"
      ],
      "metadata": {
        "colab": {
          "base_uri": "https://localhost:8080/"
        },
        "id": "9wM-KneS_Y8Z",
        "outputId": "73e0a042-cd05-4a9c-a6f6-3c715e498f97"
      },
      "execution_count": 83,
      "outputs": [
        {
          "output_type": "stream",
          "name": "stdout",
          "text": [
            "63/63 [==============================] - 0s 1ms/step\n"
          ]
        }
      ]
    },
    {
      "cell_type": "code",
      "source": [
        "y_pred"
      ],
      "metadata": {
        "colab": {
          "base_uri": "https://localhost:8080/"
        },
        "id": "vK6jeWdVCfIK",
        "outputId": "1339f57e-2309-4b06-f212-eecd281ef34e"
      },
      "execution_count": 88,
      "outputs": [
        {
          "output_type": "execute_result",
          "data": {
            "text/plain": [
              "array([[0.25958332],\n",
              "       [0.21066442],\n",
              "       [0.2582415 ],\n",
              "       ...,\n",
              "       [0.2582415 ],\n",
              "       [0.25062433],\n",
              "       [0.25958332]], dtype=float32)"
            ]
          },
          "metadata": {},
          "execution_count": 88
        }
      ]
    },
    {
      "cell_type": "code",
      "source": [
        "y_pred = y_pred.argmax(axis=-1)"
      ],
      "metadata": {
        "id": "lCO0kHmEDGut"
      },
      "execution_count": 89,
      "outputs": []
    },
    {
      "cell_type": "code",
      "source": [
        "from sklearn.metrics import accuracy_score\n",
        "accuracy_score(y_test, y_pred)"
      ],
      "metadata": {
        "colab": {
          "base_uri": "https://localhost:8080/"
        },
        "id": "ig0rp-L9AHbA",
        "outputId": "1e02dcfb-7370-45e3-e7c4-9ce9fcaccc58"
      },
      "execution_count": 90,
      "outputs": [
        {
          "output_type": "execute_result",
          "data": {
            "text/plain": [
              "0.7975"
            ]
          },
          "metadata": {},
          "execution_count": 90
        }
      ]
    },
    {
      "cell_type": "code",
      "source": [
        "import matplotlib.pyplot as plt\n",
        "\n",
        "plt.plot(history.history['loss'])\n",
        "plt.plot(history.history['val_loss'])"
      ],
      "metadata": {
        "colab": {
          "base_uri": "https://localhost:8080/",
          "height": 447
        },
        "id": "enIW-jxJDMrc",
        "outputId": "34b41e22-698a-4681-d13f-aa7879fab019"
      },
      "execution_count": 87,
      "outputs": [
        {
          "output_type": "execute_result",
          "data": {
            "text/plain": [
              "[<matplotlib.lines.Line2D at 0x78409cd80430>]"
            ]
          },
          "metadata": {},
          "execution_count": 87
        },
        {
          "output_type": "display_data",
          "data": {
            "text/plain": [
              "<Figure size 640x480 with 1 Axes>"
            ],
            "image/png": "[encoded data removed]"
          },
          "metadata": {}
        }
      ]
    },
    {
      "cell_type": "code",
      "source": [
        "plt.plot(history.history['accuracy'])\n",
        "plt.plot(history.history['val_accuracy'])"
      ],
      "metadata": {
        "colab": {
          "base_uri": "https://localhost:8080/",
          "height": 447
        },
        "id": "Qn0zbHHAEbVz",
        "outputId": "d91d9939-75c8-4399-df10-f54314094c57"
      },
      "execution_count": 82,
      "outputs": [
        {
          "output_type": "execute_result",
          "data": {
            "text/plain": [
              "[<matplotlib.lines.Line2D at 0x78409cda7430>]"
            ]
          },
          "metadata": {},
          "execution_count": 82
        },
        {
          "output_type": "display_data",
          "data": {
            "text/plain": [
              "<Figure size 640x480 with 1 Axes>"
            ],
            "image/png": "[encoded data removed]"
          },
          "metadata": {}
        }
      ]
    },
    {
      "cell_type": "markdown",
      "source": [
        "'"
      ],
      "metadata": {
        "id": "URYuG1G9uCvq"
      }
    }
  ]
}